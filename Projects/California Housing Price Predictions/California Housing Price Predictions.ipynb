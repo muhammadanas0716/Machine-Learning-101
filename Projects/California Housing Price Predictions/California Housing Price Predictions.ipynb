{
 "cells": [
  {
   "cell_type": "markdown",
   "metadata": {},
   "source": [
    "# End-to-End Machine Learning Project: Predicting California Housing Prices\n",
    "\n",
    "In this project, we will walk through a complete machine learning example end-to-end, focusing on predicting housing prices in California. This project simulates a real-world scenario where you are a data scientist working for a fictitious real estate company. The primary goal is to illustrate the main steps involved in a machine learning project, not to delve into the real estate business specifics.\n",
    "\n",
    "---\n",
    "\n",
    "## Project Overview\n",
    "The project will follow these main steps:\n",
    "1. Look at the Big Picture\n",
    "2. Get the Data\n",
    "3. Explore and Visualize the Data to Gain Insights\n",
    "4. Prepare the Data for Machine Learning Algorithms\n",
    "5. Select a Model and Train It\n",
    "6. Fine-tune Your Model\n",
    "7. Present Your Solution\n",
    "8. Launch, Monitor, and Maintain Your System\n",
    "\n",
    "---\n",
    "\n",
    "### 1. Look at the Big Picture\n",
    "\n",
    "#### Frame the Problem\n",
    "As a data scientist at the Machine Learning Housing Corporation, your task is to build a model that predicts the median housing price in any California district, given various attributes like population, median income, etc. \n",
    "\n",
    "- **Objective**: Predict median housing prices to inform investment decisions.\n",
    "- **Current Solution**: Manual estimates by experts, which are time-consuming and often inaccurate (errors exceeding 30%).\n",
    "- **Desired Outcome**: An automated, accurate prediction model to feed into a downstream investment decision system.\n",
    "\n",
    "#### Identify the Type of Problem\n",
    "- **Type of Learning**: Supervised learning (since labeled data is available).\n",
    "- **Type of Problem**: Regression task (predicting a continuous value).\n",
    "- **Approach**: Batch learning (dataset is small enough to fit in memory and doesn’t require incremental learning).\n",
    "\n",
    "#### Select a Performance Measure\n",
    "- **Preferred Metric**: Root Mean Square Error (RMSE).\n",
    "\n",
    "    \\[\n",
    "    \\text{MAE} = \\frac{1}{n} \\sum_{i=1}^{n} |y_i - \\hat{y}_i|\n",
    "    \\]\n",
    "\n",
    "    where \\( y_i \\) is the actual value, and \\( \\hat{y}_i \\) is the predicted value.\n",
    "  \n",
    "- **Alternative Metric**: Mean Absolute Error (MAE), which is less sensitive to outliers.\n",
    "- **Considerations**: RMSE is more sensitive to large errors, which is suitable when large errors are particularly undesirable.\n",
    "\n",
    "#### Check the Assumptions\n",
    "- Ensure that the output from the model (housing prices) will be used appropriately by downstream systems.\n",
    "- Confirm that the problem hasn’t been misclassified (e.g., it’s not a classification task if only price categories are needed).\n",
    "\n",
    "---\n",
    "\n",
    "### 2. Get the Data\n",
    "\n",
    "#### Accessing Real-World Data\n",
    "- **Data Source**: California Housing Prices dataset from the StatLib repository, based on the 1990 California census.\n",
    "- **Data Characteristics**:\n",
    "    - Includes metrics such as population, median income, and median housing price for each district.\n",
    "    - Districts are the smallest geographical unit for US census data (600 to 3,000 people).\n",
    "\n",
    "#### Where to Find Datasets\n",
    "- **Open Data Repositories**:\n",
    "    - OpenML\n",
    "    - Kaggle Datasets\n",
    "    - UC Irvine Machine Learning Repository\n",
    "    - Amazon AWS Datasets\n",
    "    - TensorFlow Datasets\n",
    "    - Papers With Code Datasets\n",
    "- **Meta Portals**:\n",
    "    - Data Portals\n",
    "    - OpenDataMonitor\n",
    "- **Aggregated Lists**:\n",
    "    - Wikipedia’s List of Datasets for Machine Learning Research\n",
    "    - Quora Data Science\n",
    "    - Reddit Datasets Community\n",
    "\n",
    "#### Loading the Data\n",
    "- **Options**:\n",
    "    - **Manual Download**: Download the dataset directly and load it into your environment.\n",
    "    - **Automated Scripts**: Write a script to fetch the data to ensure reproducibility.\n",
    "- **Considerations**:\n",
    "    - **Data Versioning**: Keep track of the dataset version to ensure consistency.\n",
    "    - **Data Privacy**: Ensure compliance with data usage policies and privacy laws.\n",
    "\n",
    "---\n",
    "\n",
    "### 3. Explore and Visualize the Data to Gain Insights\n",
    "- **Purpose**: Understand the data distribution, identify patterns, detect outliers, and discover correlations.\n",
    "- **Techniques**:\n",
    "    - Statistical summaries (mean, median, standard deviation).\n",
    "    - Visualizations (histograms, scatter plots, correlation matrices).\n",
    "\n",
    "---\n",
    "\n",
    "### 4. Prepare the Data for Machine Learning Algorithms\n",
    "- **Data Cleaning**:\n",
    "    - Handle missing values.\n",
    "    - Correct data errors.\n",
    "- **Feature Engineering**:\n",
    "    - Create new features from existing ones.\n",
    "    - Transform features (e.g., normalization, scaling).\n",
    "- **Encoding Categorical Variables**:\n",
    "    - Convert categorical variables into numerical formats (one-hot encoding, label encoding).\n",
    "\n",
    "---\n",
    "\n",
    "### 5. Select a Model and Train It\n",
    "- **Model Selection**:\n",
    "    - Start with simple models (e.g., Linear Regression).\n",
    "    - Experiment with more complex models (e.g., Decision Trees, Random Forests, Gradient Boosting).\n",
    "- **Training**:\n",
    "    - Split data into training and validation sets.\n",
    "    - Train the model on the training set.\n",
    "    - Evaluate performance on the validation set.\n",
    "\n",
    "---\n",
    "\n",
    "### 6. Fine-Tune Your Model\n",
    "- **Hyperparameter Tuning**:\n",
    "    - Use techniques like Grid Search, Random Search, or Bayesian Optimization.\n",
    "- **Cross-Validation**:\n",
    "    - Use k-fold cross-validation for more robust performance estimates.\n",
    "- **Ensemble Methods**:\n",
    "    - Combine multiple models to improve performance.\n",
    "\n",
    "---\n",
    "\n",
    "### 7. Present Your Solution\n",
    "- **Communication**:\n",
    "    - Prepare clear visualizations and reports.\n",
    "    - Explain the model’s predictions and performance in business terms.\n",
    "- **Storytelling**:\n",
    "    - Tell a compelling story about how your model solves the business problem.\n",
    "\n",
    "---\n",
    "\n",
    "### 8. Launch, Monitor, and Maintain Your System\n",
    "- **Deployment**:\n",
    "    - Integrate the model into the production environment.\n",
    "- **Monitoring**:\n",
    "    - Set up monitoring to track the model’s performance over time.\n",
    "- **Maintenance**:\n",
    "    - Retrain the model periodically with new data.\n",
    "    - Update the model to adapt to changing patterns.\n",
    "\n",
    "---\n",
    "\n",
    "## Conclusion\n",
    "This end-to-end project demonstrates the comprehensive process of developing a machine learning model, from understanding the problem to deploying and maintaining the solution. By following these steps meticulously, you ensure that the model not only performs well technically but also adds significant value to the business.\n",
    "\n",
    "---\n",
    "\n",
    "## Next Steps in the Colab Notebook\n",
    "In the subsequent sections of this notebook, we will:\n",
    "1. Implement the data loading and exploration steps.\n",
    "2. Prepare the data for modeling.\n",
    "3. Train various machine learning models and evaluate their performance.\n",
    "4. Fine-tune the best models to optimize performance.\n",
    "5. Discuss deployment strategies and monitoring practices.\n",
    "\n",
    "---\n",
    "\n",
    "## Additional Resources\n",
    "- **Books**:\n",
    "    - *Hands-On Machine Learning with Scikit-Learn, Keras, and TensorFlow* by Aurélien Géron\n",
    "- **Courses**:\n",
    "    - *Coursera Machine Learning* by Andrew Ng\n",
    "    - *DeepLearning.AI TensorFlow Developer Professional Certificate*\n",
    "- **Documentation**:\n",
    "    - [Scikit-Learn Documentation](https://scikit-learn.org/stable/documentation.html)\n",
    "    - [Pandas Documentation](https://pandas.pydata.org/docs/)\n",
    "    - [Matplotlib Documentation](https://matplotlib.org/stable/contents.html)"
   ]
  },
  {
   "cell_type": "code",
   "execution_count": 32,
   "metadata": {},
   "outputs": [
    {
     "data": {
      "text/html": [
       "<div>\n",
       "<style scoped>\n",
       "    .dataframe tbody tr th:only-of-type {\n",
       "        vertical-align: middle;\n",
       "    }\n",
       "\n",
       "    .dataframe tbody tr th {\n",
       "        vertical-align: top;\n",
       "    }\n",
       "\n",
       "    .dataframe thead th {\n",
       "        text-align: right;\n",
       "    }\n",
       "</style>\n",
       "<table border=\"1\" class=\"dataframe\">\n",
       "  <thead>\n",
       "    <tr style=\"text-align: right;\">\n",
       "      <th></th>\n",
       "      <th>longitude</th>\n",
       "      <th>latitude</th>\n",
       "      <th>housing_median_age</th>\n",
       "      <th>total_rooms</th>\n",
       "      <th>total_bedrooms</th>\n",
       "      <th>population</th>\n",
       "      <th>households</th>\n",
       "      <th>median_income</th>\n",
       "      <th>median_house_value</th>\n",
       "      <th>ocean_proximity</th>\n",
       "    </tr>\n",
       "  </thead>\n",
       "  <tbody>\n",
       "    <tr>\n",
       "      <th>0</th>\n",
       "      <td>-122.23</td>\n",
       "      <td>37.88</td>\n",
       "      <td>41.0</td>\n",
       "      <td>880.0</td>\n",
       "      <td>129.0</td>\n",
       "      <td>322.0</td>\n",
       "      <td>126.0</td>\n",
       "      <td>8.3252</td>\n",
       "      <td>452600.0</td>\n",
       "      <td>NEAR BAY</td>\n",
       "    </tr>\n",
       "    <tr>\n",
       "      <th>1</th>\n",
       "      <td>-122.22</td>\n",
       "      <td>37.86</td>\n",
       "      <td>21.0</td>\n",
       "      <td>7099.0</td>\n",
       "      <td>1106.0</td>\n",
       "      <td>2401.0</td>\n",
       "      <td>1138.0</td>\n",
       "      <td>8.3014</td>\n",
       "      <td>358500.0</td>\n",
       "      <td>NEAR BAY</td>\n",
       "    </tr>\n",
       "    <tr>\n",
       "      <th>2</th>\n",
       "      <td>-122.24</td>\n",
       "      <td>37.85</td>\n",
       "      <td>52.0</td>\n",
       "      <td>1467.0</td>\n",
       "      <td>190.0</td>\n",
       "      <td>496.0</td>\n",
       "      <td>177.0</td>\n",
       "      <td>7.2574</td>\n",
       "      <td>352100.0</td>\n",
       "      <td>NEAR BAY</td>\n",
       "    </tr>\n",
       "    <tr>\n",
       "      <th>3</th>\n",
       "      <td>-122.25</td>\n",
       "      <td>37.85</td>\n",
       "      <td>52.0</td>\n",
       "      <td>1274.0</td>\n",
       "      <td>235.0</td>\n",
       "      <td>558.0</td>\n",
       "      <td>219.0</td>\n",
       "      <td>5.6431</td>\n",
       "      <td>341300.0</td>\n",
       "      <td>NEAR BAY</td>\n",
       "    </tr>\n",
       "    <tr>\n",
       "      <th>4</th>\n",
       "      <td>-122.25</td>\n",
       "      <td>37.85</td>\n",
       "      <td>52.0</td>\n",
       "      <td>1627.0</td>\n",
       "      <td>280.0</td>\n",
       "      <td>565.0</td>\n",
       "      <td>259.0</td>\n",
       "      <td>3.8462</td>\n",
       "      <td>342200.0</td>\n",
       "      <td>NEAR BAY</td>\n",
       "    </tr>\n",
       "    <tr>\n",
       "      <th>...</th>\n",
       "      <td>...</td>\n",
       "      <td>...</td>\n",
       "      <td>...</td>\n",
       "      <td>...</td>\n",
       "      <td>...</td>\n",
       "      <td>...</td>\n",
       "      <td>...</td>\n",
       "      <td>...</td>\n",
       "      <td>...</td>\n",
       "      <td>...</td>\n",
       "    </tr>\n",
       "    <tr>\n",
       "      <th>20635</th>\n",
       "      <td>-121.09</td>\n",
       "      <td>39.48</td>\n",
       "      <td>25.0</td>\n",
       "      <td>1665.0</td>\n",
       "      <td>374.0</td>\n",
       "      <td>845.0</td>\n",
       "      <td>330.0</td>\n",
       "      <td>1.5603</td>\n",
       "      <td>78100.0</td>\n",
       "      <td>INLAND</td>\n",
       "    </tr>\n",
       "    <tr>\n",
       "      <th>20636</th>\n",
       "      <td>-121.21</td>\n",
       "      <td>39.49</td>\n",
       "      <td>18.0</td>\n",
       "      <td>697.0</td>\n",
       "      <td>150.0</td>\n",
       "      <td>356.0</td>\n",
       "      <td>114.0</td>\n",
       "      <td>2.5568</td>\n",
       "      <td>77100.0</td>\n",
       "      <td>INLAND</td>\n",
       "    </tr>\n",
       "    <tr>\n",
       "      <th>20637</th>\n",
       "      <td>-121.22</td>\n",
       "      <td>39.43</td>\n",
       "      <td>17.0</td>\n",
       "      <td>2254.0</td>\n",
       "      <td>485.0</td>\n",
       "      <td>1007.0</td>\n",
       "      <td>433.0</td>\n",
       "      <td>1.7000</td>\n",
       "      <td>92300.0</td>\n",
       "      <td>INLAND</td>\n",
       "    </tr>\n",
       "    <tr>\n",
       "      <th>20638</th>\n",
       "      <td>-121.32</td>\n",
       "      <td>39.43</td>\n",
       "      <td>18.0</td>\n",
       "      <td>1860.0</td>\n",
       "      <td>409.0</td>\n",
       "      <td>741.0</td>\n",
       "      <td>349.0</td>\n",
       "      <td>1.8672</td>\n",
       "      <td>84700.0</td>\n",
       "      <td>INLAND</td>\n",
       "    </tr>\n",
       "    <tr>\n",
       "      <th>20639</th>\n",
       "      <td>-121.24</td>\n",
       "      <td>39.37</td>\n",
       "      <td>16.0</td>\n",
       "      <td>2785.0</td>\n",
       "      <td>616.0</td>\n",
       "      <td>1387.0</td>\n",
       "      <td>530.0</td>\n",
       "      <td>2.3886</td>\n",
       "      <td>89400.0</td>\n",
       "      <td>INLAND</td>\n",
       "    </tr>\n",
       "  </tbody>\n",
       "</table>\n",
       "<p>20640 rows × 10 columns</p>\n",
       "</div>"
      ],
      "text/plain": [
       "       longitude  latitude  housing_median_age  total_rooms  total_bedrooms  \\\n",
       "0        -122.23     37.88                41.0        880.0           129.0   \n",
       "1        -122.22     37.86                21.0       7099.0          1106.0   \n",
       "2        -122.24     37.85                52.0       1467.0           190.0   \n",
       "3        -122.25     37.85                52.0       1274.0           235.0   \n",
       "4        -122.25     37.85                52.0       1627.0           280.0   \n",
       "...          ...       ...                 ...          ...             ...   \n",
       "20635    -121.09     39.48                25.0       1665.0           374.0   \n",
       "20636    -121.21     39.49                18.0        697.0           150.0   \n",
       "20637    -121.22     39.43                17.0       2254.0           485.0   \n",
       "20638    -121.32     39.43                18.0       1860.0           409.0   \n",
       "20639    -121.24     39.37                16.0       2785.0           616.0   \n",
       "\n",
       "       population  households  median_income  median_house_value  \\\n",
       "0           322.0       126.0         8.3252            452600.0   \n",
       "1          2401.0      1138.0         8.3014            358500.0   \n",
       "2           496.0       177.0         7.2574            352100.0   \n",
       "3           558.0       219.0         5.6431            341300.0   \n",
       "4           565.0       259.0         3.8462            342200.0   \n",
       "...           ...         ...            ...                 ...   \n",
       "20635       845.0       330.0         1.5603             78100.0   \n",
       "20636       356.0       114.0         2.5568             77100.0   \n",
       "20637      1007.0       433.0         1.7000             92300.0   \n",
       "20638       741.0       349.0         1.8672             84700.0   \n",
       "20639      1387.0       530.0         2.3886             89400.0   \n",
       "\n",
       "      ocean_proximity  \n",
       "0            NEAR BAY  \n",
       "1            NEAR BAY  \n",
       "2            NEAR BAY  \n",
       "3            NEAR BAY  \n",
       "4            NEAR BAY  \n",
       "...               ...  \n",
       "20635          INLAND  \n",
       "20636          INLAND  \n",
       "20637          INLAND  \n",
       "20638          INLAND  \n",
       "20639          INLAND  \n",
       "\n",
       "[20640 rows x 10 columns]"
      ]
     },
     "execution_count": 32,
     "metadata": {},
     "output_type": "execute_result"
    }
   ],
   "source": [
    "import numpy as np\n",
    "import pandas as pd\n",
    "\n",
    "# Load the CSV\n",
    "housing_data = pd.read_csv(\"housing.csv\")\n",
    "\n",
    "# First 5 rows\n",
    "housing_data"
   ]
  },
  {
   "cell_type": "code",
   "execution_count": 33,
   "metadata": {},
   "outputs": [
    {
     "name": "stdout",
     "output_type": "stream",
     "text": [
      "<class 'pandas.core.frame.DataFrame'>\n",
      "RangeIndex: 20640 entries, 0 to 20639\n",
      "Data columns (total 10 columns):\n",
      " #   Column              Non-Null Count  Dtype  \n",
      "---  ------              --------------  -----  \n",
      " 0   longitude           20640 non-null  float64\n",
      " 1   latitude            20640 non-null  float64\n",
      " 2   housing_median_age  20640 non-null  float64\n",
      " 3   total_rooms         20640 non-null  float64\n",
      " 4   total_bedrooms      20433 non-null  float64\n",
      " 5   population          20640 non-null  float64\n",
      " 6   households          20640 non-null  float64\n",
      " 7   median_income       20640 non-null  float64\n",
      " 8   median_house_value  20640 non-null  float64\n",
      " 9   ocean_proximity     20640 non-null  object \n",
      "dtypes: float64(9), object(1)\n",
      "memory usage: 1.6+ MB\n"
     ]
    }
   ],
   "source": [
    "housing_data.info()"
   ]
  },
  {
   "cell_type": "code",
   "execution_count": 34,
   "metadata": {},
   "outputs": [
    {
     "data": {
      "text/plain": [
       "ocean_proximity\n",
       "<1H OCEAN     9136\n",
       "INLAND        6551\n",
       "NEAR OCEAN    2658\n",
       "NEAR BAY      2290\n",
       "ISLAND           5\n",
       "Name: count, dtype: int64"
      ]
     },
     "execution_count": 34,
     "metadata": {},
     "output_type": "execute_result"
    }
   ],
   "source": [
    "housing_data[\"ocean_proximity\"].value_counts()"
   ]
  },
  {
   "cell_type": "code",
   "execution_count": 35,
   "metadata": {},
   "outputs": [
    {
     "data": {
      "image/png": "[encoded data removed]",
      "text/plain": [
       "<Figure size 640x480 with 1 Axes>"
      ]
     },
     "metadata": {},
     "output_type": "display_data"
    }
   ],
   "source": [
    "# Plot the above data\n",
    "import matplotlib.pyplot as plt\n",
    "housing_data[\"ocean_proximity\"].value_counts().plot(kind=\"barh\")\n",
    "\n",
    "plt.show()"
   ]
  },
  {
   "cell_type": "code",
   "execution_count": 36,
   "metadata": {},
   "outputs": [
    {
     "data": {
      "text/html": [
       "<div>\n",
       "<style scoped>\n",
       "    .dataframe tbody tr th:only-of-type {\n",
       "        vertical-align: middle;\n",
       "    }\n",
       "\n",
       "    .dataframe tbody tr th {\n",
       "        vertical-align: top;\n",
       "    }\n",
       "\n",
       "    .dataframe thead th {\n",
       "        text-align: right;\n",
       "    }\n",
       "</style>\n",
       "<table border=\"1\" class=\"dataframe\">\n",
       "  <thead>\n",
       "    <tr style=\"text-align: right;\">\n",
       "      <th></th>\n",
       "      <th>longitude</th>\n",
       "      <th>latitude</th>\n",
       "      <th>housing_median_age</th>\n",
       "      <th>total_rooms</th>\n",
       "      <th>total_bedrooms</th>\n",
       "      <th>population</th>\n",
       "      <th>households</th>\n",
       "      <th>median_income</th>\n",
       "      <th>median_house_value</th>\n",
       "    </tr>\n",
       "  </thead>\n",
       "  <tbody>\n",
       "    <tr>\n",
       "      <th>count</th>\n",
       "      <td>20640.000000</td>\n",
       "      <td>20640.000000</td>\n",
       "      <td>20640.000000</td>\n",
       "      <td>20640.000000</td>\n",
       "      <td>20433.000000</td>\n",
       "      <td>20640.000000</td>\n",
       "      <td>20640.000000</td>\n",
       "      <td>20640.000000</td>\n",
       "      <td>20640.000000</td>\n",
       "    </tr>\n",
       "    <tr>\n",
       "      <th>mean</th>\n",
       "      <td>-119.569704</td>\n",
       "      <td>35.631861</td>\n",
       "      <td>28.639486</td>\n",
       "      <td>2635.763081</td>\n",
       "      <td>537.870553</td>\n",
       "      <td>1425.476744</td>\n",
       "      <td>499.539680</td>\n",
       "      <td>3.870671</td>\n",
       "      <td>206855.816909</td>\n",
       "    </tr>\n",
       "    <tr>\n",
       "      <th>std</th>\n",
       "      <td>2.003532</td>\n",
       "      <td>2.135952</td>\n",
       "      <td>12.585558</td>\n",
       "      <td>2181.615252</td>\n",
       "      <td>421.385070</td>\n",
       "      <td>1132.462122</td>\n",
       "      <td>382.329753</td>\n",
       "      <td>1.899822</td>\n",
       "      <td>115395.615874</td>\n",
       "    </tr>\n",
       "    <tr>\n",
       "      <th>min</th>\n",
       "      <td>-124.350000</td>\n",
       "      <td>32.540000</td>\n",
       "      <td>1.000000</td>\n",
       "      <td>2.000000</td>\n",
       "      <td>1.000000</td>\n",
       "      <td>3.000000</td>\n",
       "      <td>1.000000</td>\n",
       "      <td>0.499900</td>\n",
       "      <td>14999.000000</td>\n",
       "    </tr>\n",
       "    <tr>\n",
       "      <th>25%</th>\n",
       "      <td>-121.800000</td>\n",
       "      <td>33.930000</td>\n",
       "      <td>18.000000</td>\n",
       "      <td>1447.750000</td>\n",
       "      <td>296.000000</td>\n",
       "      <td>787.000000</td>\n",
       "      <td>280.000000</td>\n",
       "      <td>2.563400</td>\n",
       "      <td>119600.000000</td>\n",
       "    </tr>\n",
       "    <tr>\n",
       "      <th>50%</th>\n",
       "      <td>-118.490000</td>\n",
       "      <td>34.260000</td>\n",
       "      <td>29.000000</td>\n",
       "      <td>2127.000000</td>\n",
       "      <td>435.000000</td>\n",
       "      <td>1166.000000</td>\n",
       "      <td>409.000000</td>\n",
       "      <td>3.534800</td>\n",
       "      <td>179700.000000</td>\n",
       "    </tr>\n",
       "    <tr>\n",
       "      <th>75%</th>\n",
       "      <td>-118.010000</td>\n",
       "      <td>37.710000</td>\n",
       "      <td>37.000000</td>\n",
       "      <td>3148.000000</td>\n",
       "      <td>647.000000</td>\n",
       "      <td>1725.000000</td>\n",
       "      <td>605.000000</td>\n",
       "      <td>4.743250</td>\n",
       "      <td>264725.000000</td>\n",
       "    </tr>\n",
       "    <tr>\n",
       "      <th>max</th>\n",
       "      <td>-114.310000</td>\n",
       "      <td>41.950000</td>\n",
       "      <td>52.000000</td>\n",
       "      <td>39320.000000</td>\n",
       "      <td>6445.000000</td>\n",
       "      <td>35682.000000</td>\n",
       "      <td>6082.000000</td>\n",
       "      <td>15.000100</td>\n",
       "      <td>500001.000000</td>\n",
       "    </tr>\n",
       "  </tbody>\n",
       "</table>\n",
       "</div>"
      ],
      "text/plain": [
       "          longitude      latitude  housing_median_age   total_rooms  \\\n",
       "count  20640.000000  20640.000000        20640.000000  20640.000000   \n",
       "mean    -119.569704     35.631861           28.639486   2635.763081   \n",
       "std        2.003532      2.135952           12.585558   2181.615252   \n",
       "min     -124.350000     32.540000            1.000000      2.000000   \n",
       "25%     -121.800000     33.930000           18.000000   1447.750000   \n",
       "50%     -118.490000     34.260000           29.000000   2127.000000   \n",
       "75%     -118.010000     37.710000           37.000000   3148.000000   \n",
       "max     -114.310000     41.950000           52.000000  39320.000000   \n",
       "\n",
       "       total_bedrooms    population    households  median_income  \\\n",
       "count    20433.000000  20640.000000  20640.000000   20640.000000   \n",
       "mean       537.870553   1425.476744    499.539680       3.870671   \n",
       "std        421.385070   1132.462122    382.329753       1.899822   \n",
       "min          1.000000      3.000000      1.000000       0.499900   \n",
       "25%        296.000000    787.000000    280.000000       2.563400   \n",
       "50%        435.000000   1166.000000    409.000000       3.534800   \n",
       "75%        647.000000   1725.000000    605.000000       4.743250   \n",
       "max       6445.000000  35682.000000   6082.000000      15.000100   \n",
       "\n",
       "       median_house_value  \n",
       "count        20640.000000  \n",
       "mean        206855.816909  \n",
       "std         115395.615874  \n",
       "min          14999.000000  \n",
       "25%         119600.000000  \n",
       "50%         179700.000000  \n",
       "75%         264725.000000  \n",
       "max         500001.000000  "
      ]
     },
     "execution_count": 36,
     "metadata": {},
     "output_type": "execute_result"
    }
   ],
   "source": [
    "housing_data.describe()"
   ]
  },
  {
   "cell_type": "code",
   "execution_count": 37,
   "metadata": {},
   "outputs": [
    {
     "data": {
      "text/plain": [
       "<Axes: >"
      ]
     },
     "execution_count": 37,
     "metadata": {},
     "output_type": "execute_result"
    },
    {
     "data": {
      "image/png": "[encoded data removed]",
      "text/plain": [
       "<Figure size 640x480 with 1 Axes>"
      ]
     },
     "metadata": {},
     "output_type": "display_data"
    }
   ],
   "source": [
    "housing_data[\"median_income\"].hist()"
   ]
  },
  {
   "cell_type": "code",
   "execution_count": 38,
   "metadata": {},
   "outputs": [
    {
     "data": {
      "text/plain": [
       "<Axes: >"
      ]
     },
     "execution_count": 38,
     "metadata": {},
     "output_type": "execute_result"
    },
    {
     "data": {
      "image/png": "[encoded data removed]",
      "text/plain": [
       "<Figure size 640x480 with 1 Axes>"
      ]
     },
     "metadata": {},
     "output_type": "display_data"
    }
   ],
   "source": [
    "housing_data[\"income_cat\"] = pd.cut(housing_data[\"median_income\"], bins=[0., 1.5, 3.0, 4.5, 6., np.inf], labels=[1, 2, 3, 4, 5])\n",
    "\n",
    "housing_data[\"income_cat\"].hist()"
   ]
  },
  {
   "cell_type": "code",
   "execution_count": 39,
   "metadata": {},
   "outputs": [],
   "source": [
    "X = housing_data.drop(\"median_house_value\", axis=1)\n",
    "y = housing_data[\"median_house_value\"]"
   ]
  },
  {
   "cell_type": "code",
   "execution_count": 40,
   "metadata": {},
   "outputs": [],
   "source": [
    "# Splitting the data\n",
    "from sklearn.model_selection import train_test_split\n",
    "\n",
    "X_train, X_test, y_train, y_test = train_test_split(X, y, test_size=0.33, random_state=42)"
   ]
  },
  {
   "cell_type": "code",
   "execution_count": 41,
   "metadata": {},
   "outputs": [
    {
     "data": {
      "text/plain": [
       "<Axes: >"
      ]
     },
     "execution_count": 41,
     "metadata": {},
     "output_type": "execute_result"
    },
    {
     "data": {
      "image/png": "[encoded data removed]",
      "text/plain": [
       "<Figure size 640x480 with 1 Axes>"
      ]
     },
     "metadata": {},
     "output_type": "display_data"
    }
   ],
   "source": [
    "housing_data[\"income_cat\"].hist()"
   ]
  },
  {
   "cell_type": "code",
   "execution_count": 42,
   "metadata": {},
   "outputs": [
    {
     "data": {
      "text/plain": [
       "<Axes: >"
      ]
     },
     "execution_count": 42,
     "metadata": {},
     "output_type": "execute_result"
    },
    {
     "data": {
      "image/png": "[encoded data removed]",
      "text/plain": [
       "<Figure size 640x480 with 1 Axes>"
      ]
     },
     "metadata": {},
     "output_type": "display_data"
    }
   ],
   "source": [
    "X_train[\"income_cat\"].hist()"
   ]
  },
  {
   "cell_type": "code",
   "execution_count": 43,
   "metadata": {},
   "outputs": [
    {
     "data": {
      "text/plain": [
       "<Axes: >"
      ]
     },
     "execution_count": 43,
     "metadata": {},
     "output_type": "execute_result"
    },
    {
     "data": {
      "image/png": "[encoded data removed]",
      "text/plain": [
       "<Figure size 640x480 with 1 Axes>"
      ]
     },
     "metadata": {},
     "output_type": "display_data"
    }
   ],
   "source": [
    "X_test[\"income_cat\"].hist()"
   ]
  },
  {
   "cell_type": "code",
   "execution_count": 51,
   "metadata": {},
   "outputs": [
    {
     "name": "stdout",
     "output_type": "stream",
     "text": [
      "Proportions in full dataset:\n",
      " income_cat\n",
      "3    0.350581\n",
      "2    0.318847\n",
      "4    0.176308\n",
      "5    0.114438\n",
      "1    0.039826\n",
      "Name: count, dtype: float64\n",
      "Proportions in stratified train set:\n",
      " income_cat\n",
      "3    0.350593\n",
      "2    0.318846\n",
      "4    0.176309\n",
      "5    0.114406\n",
      "1    0.039847\n",
      "Name: count, dtype: float64\n",
      "Proportions in stratified test set:\n",
      " income_cat\n",
      "3    0.350558\n",
      "2    0.318849\n",
      "4    0.176307\n",
      "5    0.114504\n",
      "1    0.039783\n",
      "Name: count, dtype: float64\n"
     ]
    }
   ],
   "source": [
    "# Stratified sampling\n",
    "strat_train_set, strat_test_set = train_test_split(housing_data, test_size=0.33, random_state=42, stratify=housing_data[\"income_cat\"])\n",
    "\n",
    "\n",
    "# Verify the stratification\n",
    "# ------------------------------------\n",
    "# Calculate proportions of each income category in the full dataset\n",
    "full_proportions = housing_data[\"income_cat\"].value_counts() / len(housing_data)\n",
    "\n",
    "# Calculate proportions of each income category in the stratified train set\n",
    "train_proportions = strat_train_set[\"income_cat\"].value_counts() / len(strat_train_set)\n",
    "\n",
    "# Calculate proportions of each income category in the stratified test set\n",
    "test_proportions = strat_test_set[\"income_cat\"].value_counts() / len(strat_test_set)\n",
    "\n",
    "print(\"Proportions in full dataset:\\n\", full_proportions)\n",
    "print(\"Proportions in stratified train set:\\n\", train_proportions)\n",
    "print(\"Proportions in stratified test set:\\n\", test_proportions)\n"
   ]
  },
  {
   "cell_type": "code",
   "execution_count": null,
   "metadata": {},
   "outputs": [],
   "source": []
  }
 ],
 "metadata": {
  "kernelspec": {
   "display_name": "Python 3",
   "language": "python",
   "name": "python3"
  },
  "language_info": {
   "codemirror_mode": {
    "name": "ipython",
    "version": 3
   },
   "file_extension": ".py",
   "mimetype": "text/x-python",
   "name": "python",
   "nbconvert_exporter": "python",
   "pygments_lexer": "ipython3",
   "version": "3.12.6"
  }
 },
 "nbformat": 4,
 "nbformat_minor": 2
}
